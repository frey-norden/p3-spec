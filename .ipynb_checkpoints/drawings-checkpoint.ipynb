{
 "cells": [
  {
   "cell_type": "code",
   "execution_count": null,
   "metadata": {},
   "outputs": [],
   "source": [
    "import turtle\n",
    "wn = turtle.Screen()\n",
    "wn.bgcolor(\"hotpink\")\n",
    "b = turtle.Turtle()\n",
    "b.speed(10)\n",
    "\n",
    "def positionStart():\n",
    "    b.up()\n",
    "    b.goto(30, -60)\n",
    "    b.right(36)\n",
    "    b.down()\n",
    "    \n",
    "positionStart()\n",
    "\n",
    "def pentagon(dist, ang):\n",
    "    for i in range(5):\n",
    "      b.forward(dist)\n",
    "      b.left(ang)\n",
    "\n",
    "dist = 125\n",
    "ang = 72\n",
    "\n",
    "for _ in range(126):\n",
    "  pentagon(dist, ang)\n",
    "  dist -= 2\n",
    "\n",
    "b.up()\n",
    "b.shape('blank')\n",
    "   \n",
    "wn.exitonclick()"
   ]
  },
  {
   "cell_type": "code",
   "execution_count": null,
   "metadata": {},
   "outputs": [],
   "source": [
    "import turtle\n",
    "wn = turtle.Screen()\n",
    "wn.bgcolor(\"hotpink\")\n",
    "b = turtle.Turtle()\n",
    "b.speed(10)\n",
    "\n",
    "def setupTurtleB():\n",
    "    b.up()\n",
    "    b.goto(0,-250)\n",
    "    b.left(36)\n",
    "    b.down()\n",
    "    \n",
    "setupTurtleB()\n",
    "\n",
    "def pentagon(dist, ang):\n",
    "    for i in range(5):\n",
    "      b.forward(dist)\n",
    "      b.left(ang)\n",
    "dist = 125\n",
    "ang = 72\n",
    "for _ in range(85):\n",
    "  pentagon(dist, ang)\n",
    "  dist += 3 \n",
    "\n",
    "b.up()\n",
    "b.left(54)\n",
    "b.forward(95)\n",
    "b.shape('turtle')\n",
    "b.stamp\n",
    "    \n",
    "wn.exitonclick()"
   ]
  },
  {
   "cell_type": "code",
   "execution_count": null,
   "metadata": {},
   "outputs": [],
   "source": [
    "72/2"
   ]
  },
  {
   "cell_type": "code",
   "execution_count": null,
   "metadata": {},
   "outputs": [],
   "source": [
    "72/2"
   ]
  },
  {
   "cell_type": "code",
   "execution_count": 1,
   "metadata": {},
   "outputs": [
    {
     "data": {
      "text/plain": [
       "54"
      ]
     },
     "execution_count": 1,
     "metadata": {},
     "output_type": "execute_result"
    }
   ],
   "source": [
    "90-36"
   ]
  },
  {
   "cell_type": "code",
   "execution_count": 1,
   "metadata": {},
   "outputs": [
    {
     "data": {
      "text/plain": [
       "62.5"
      ]
     },
     "execution_count": 1,
     "metadata": {},
     "output_type": "execute_result"
    }
   ],
   "source": [
    "125/2"
   ]
  },
  {
   "cell_type": "code",
   "execution_count": 3,
   "metadata": {},
   "outputs": [
    {
     "data": {
      "text/plain": [
       "-1"
      ]
     },
     "execution_count": 3,
     "metadata": {},
     "output_type": "execute_result"
    }
   ],
   "source": [
    "125-(2*63)"
   ]
  },
  {
   "cell_type": "markdown",
   "metadata": {},
   "source": [
    "63*2"
   ]
  },
  {
   "cell_type": "code",
   "execution_count": 4,
   "metadata": {},
   "outputs": [
    {
     "data": {
      "text/plain": [
       "126"
      ]
     },
     "execution_count": 4,
     "metadata": {},
     "output_type": "execute_result"
    }
   ],
   "source": [
    "63*2"
   ]
  },
  {
   "cell_type": "code",
   "execution_count": 1,
   "metadata": {},
   "outputs": [],
   "source": [
    "import turtle\n",
    "wn = turtle.Screen()\n",
    "wn.bgcolor(\"hotpink\")\n",
    "\n",
    "def pentagon(dist, ang):\n",
    "    b = turtle.Turtle()\n",
    "    b.speed(10)\n",
    "    for i in range(5):\n",
    "      b.forward(dist)\n",
    "      b.left(ang)\n",
    "dist = 165\n",
    "ang = 72\n",
    "for _ in range(45):\n",
    "  pentagon(dist, ang)\n",
    "  ang += 1"
   ]
  },
  {
   "cell_type": "code",
   "execution_count": 1,
   "metadata": {},
   "outputs": [],
   "source": [
    "import turtle\n",
    "wn = turtle.Screen()\n",
    "wn.bgcolor(\"hotpink\")\n",
    "\n",
    "def positionStart(b):\n",
    "    b.up()\n",
    "    b.goto(-60, -60)\n",
    "    b.right(36)\n",
    "    b.down()\n",
    "    \n",
    "\n",
    "def pentagon(dist, ang):\n",
    "    b = turtle.Turtle()\n",
    "    positionStart(b)\n",
    "    b.speed(10)\n",
    "    for i in range(5):\n",
    "      b.forward(dist)\n",
    "      b.left(ang)\n",
    "\n",
    "dist = 265\n",
    "ang = 72\n",
    "runs = 45\n",
    "\n",
    "for _ in range(runs):\n",
    "  pentagon(dist, ang)\n",
    "  ang += 1"
   ]
  },
  {
   "cell_type": "code",
   "execution_count": null,
   "metadata": {},
   "outputs": [],
   "source": []
  }
 ],
 "metadata": {
  "kernelspec": {
   "display_name": "Python 3",
   "language": "python",
   "name": "python3"
  },
  "language_info": {
   "codemirror_mode": {
    "name": "ipython",
    "version": 3
   },
   "file_extension": ".py",
   "mimetype": "text/x-python",
   "name": "python",
   "nbconvert_exporter": "python",
   "pygments_lexer": "ipython3",
   "version": "3.8.5"
  }
 },
 "nbformat": 4,
 "nbformat_minor": 4
}
