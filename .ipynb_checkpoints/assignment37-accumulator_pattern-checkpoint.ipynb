{
 "cells": [
  {
   "cell_type": "code",
   "execution_count": 5,
   "metadata": {},
   "outputs": [
    {
     "name": "stdout",
     "output_type": "stream",
     "text": [
      "['1.65', '1.46', '2.05', '3.03', '3.35', '3.46', '2.83', '3.23', '3.5', '2.52', '2.8', '1.85']\n",
      "5\n"
     ]
    }
   ],
   "source": [
    "rainfall_mi = \"1.65, 1.46, 2.05, 3.03, 3.35, 3.46, 2.83, 3.23, 3.5, 2.52, 2.8, 1.85\"\n",
    "num_rainy_months = 0\n",
    "rainfall_mi = rainfall_mi.split(', ')\n",
    "#print(rainfall_mi)       # was checking to see if rainfall_mi was cast as list\n",
    "\n",
    "for m in rainfall_mi:\n",
    "    if float(m) > 3.0:\n",
    "        num_rainy_months += 1\n",
    "\n",
    "print(num_rainy_months)      \n"
   ]
  },
  {
   "cell_type": "code",
   "execution_count": 7,
   "metadata": {},
   "outputs": [
    {
     "name": "stdout",
     "output_type": "stream",
     "text": [
      "['students', 'flock', 'to', 'the', 'arb', 'for', 'a', 'variety', 'of', 'outdoor', 'activities', 'such', 'as', 'jogging', 'and', 'picnicking']\n"
     ]
    }
   ],
   "source": [
    "sentence = \"students flock to the arb for a variety of outdoor activities such as jogging and picnicking\"\n",
    "\n",
    "sent = sentence[:]\n",
    "sent = sent.split()\n",
    "#print(sent)     \n",
    "\n",
    "same_letter_count = 0\n",
    "\n",
    "for s in sent:\n",
    "    if s[0] == s[-1]:\n",
    "        same_letter_count += 1"
   ]
  },
  {
   "cell_type": "code",
   "execution_count": 9,
   "metadata": {},
   "outputs": [
    {
     "name": "stdout",
     "output_type": "stream",
     "text": [
      "4\n"
     ]
    }
   ],
   "source": [
    "items = [\"whirring\", \"wow!\", \"calendar\", \"wry\", \"glass\", \"\", \"llama\",\"tumultuous\",\"owing\"]\n",
    "acc_num = 0\n",
    "\n",
    "for item in items:\n",
    "    if 'w' in item:\n",
    "        acc_num += 1\n",
    "\n",
    "print(acc_num)"
   ]
  },
  {
   "cell_type": "code",
   "execution_count": 11,
   "metadata": {},
   "outputs": [
    {
     "name": "stdout",
     "output_type": "stream",
     "text": [
      "14 ['a', 'level', 'general', 'purpose', 'programming', 'language', 'that', 'can', 'be', 'applied', 'many', 'different', 'classes', 'problems.']\n"
     ]
    }
   ],
   "source": [
    "sentence = \"python is a high level general purpose programming language that can be applied to many different classes of problems.\"\n",
    "\n",
    "sent = sentence[:]\n",
    "sent = sent.split()\n",
    "num_a_or_e = 0\n",
    "\n",
    "a_e_words = []\n",
    "for word in sent:\n",
    "    if 'a' in word or 'e' in word:\n",
    "        num_a_or_e += 1\n",
    "        a_e_words.append(word)\n",
    "print(num_a_or_e, a_e_words)"
   ]
  },
  {
   "cell_type": "code",
   "execution_count": 1,
   "metadata": {},
   "outputs": [
    {
     "name": "stdout",
     "output_type": "stream",
     "text": [
      "32\n"
     ]
    }
   ],
   "source": [
    "s = \"singing in the rain and playing in the rain are two entirely different situations but both can be fun\"\n",
    "vowels = ['a','e','i','o','u']\n",
    "num_vowels = 0\n",
    "# Write your code here.\n",
    "for letter in s:\n",
    "    if letter in vowels:\n",
    "        num_vowels += 1\n",
    "        \n",
    "print(num_vowels)"
   ]
  },
  {
   "cell_type": "code",
   "execution_count": null,
   "metadata": {},
   "outputs": [],
   "source": []
  }
 ],
 "metadata": {
  "kernelspec": {
   "display_name": "Python 3",
   "language": "python",
   "name": "python3"
  },
  "language_info": {
   "codemirror_mode": {
    "name": "ipython",
    "version": 3
   },
   "file_extension": ".py",
   "mimetype": "text/x-python",
   "name": "python",
   "nbconvert_exporter": "python",
   "pygments_lexer": "ipython3",
   "version": "3.8.5"
  }
 },
 "nbformat": 4,
 "nbformat_minor": 4
}
