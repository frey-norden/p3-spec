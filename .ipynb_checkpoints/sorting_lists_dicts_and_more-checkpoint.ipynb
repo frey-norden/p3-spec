{
 "cells": [
  {
   "cell_type": "code",
   "execution_count": 1,
   "metadata": {},
   "outputs": [
    {
     "name": "stdout",
     "output_type": "stream",
     "text": [
      "E appears 2 times\n",
      "F appears 1 times\n",
      "B appears 2 times\n",
      "A appears 2 times\n",
      "D appears 4 times\n",
      "I appears 2 times\n",
      "C appears 1 times\n"
     ]
    }
   ],
   "source": [
    "L = ['E', 'F', 'B', 'A', 'D', 'I', 'I', 'C', 'B', 'A', 'D', 'D', 'E', 'D']\n",
    "\n",
    "d = {}\n",
    "for x in L:\n",
    "    if x in d:\n",
    "        d[x] += 1\n",
    "    else:\n",
    "        d[x] = 1\n",
    "for x in d.keys():\n",
    "    print(\"{} appears {} times\".format(x, d[x]))\n"
   ]
  },
  {
   "cell_type": "code",
   "execution_count": 2,
   "metadata": {},
   "outputs": [
    {
     "name": "stdout",
     "output_type": "stream",
     "text": [
      "A appears 2 times\n",
      "B appears 2 times\n",
      "C appears 1 times\n",
      "D appears 4 times\n",
      "E appears 2 times\n",
      "F appears 1 times\n",
      "I appears 2 times\n"
     ]
    }
   ],
   "source": [
    "# now with the keys sorted to apply some ordering to the output dictionary\n",
    "L = ['E', 'F', 'B', 'A', 'D', 'I', 'I', 'C', 'B', 'A', 'D', 'D', 'E', 'D']\n",
    "\n",
    "d = {}\n",
    "for x in L:\n",
    "    if x in d:\n",
    "        d[x] += 1\n",
    "    else:\n",
    "        d[x] = 1\n",
    "y = sorted(d.keys())\n",
    "for k in y:\n",
    "    print(\"{} appears {} times\".format(k, d[k]))"
   ]
  },
  {
   "cell_type": "code",
   "execution_count": 3,
   "metadata": {},
   "outputs": [
    {
     "name": "stdout",
     "output_type": "stream",
     "text": [
      "D appears 4 times\n",
      "E appears 2 times\n",
      "B appears 2 times\n",
      "A appears 2 times\n",
      "I appears 2 times\n",
      "F appears 1 times\n",
      "C appears 1 times\n"
     ]
    }
   ],
   "source": [
    "# a little tricky but useful for ranking frequency\n",
    "L = ['E', 'F', 'B', 'A', 'D', 'I', 'I', 'C', 'B', 'A', 'D', 'D', 'E', 'D']\n",
    "\n",
    "d = {}\n",
    "for x in L:\n",
    "    if x in d:\n",
    "        d[x] += 1\n",
    "    else:\n",
    "        d[x] = 1\n",
    "\n",
    "y = sorted(d.keys(), key=lambda k: d[k], reverse=True)\n",
    "for k in y:\n",
    "    print(\"{} appears {} times\".format(k, d[k]))"
   ]
  },
  {
   "cell_type": "code",
   "execution_count": 4,
   "metadata": {},
   "outputs": [
    {
     "name": "stdout",
     "output_type": "stream",
     "text": [
      "D appears 4 times\n",
      "E appears 2 times\n",
      "B appears 2 times\n",
      "A appears 2 times\n",
      "I appears 2 times\n",
      "F appears 1 times\n",
      "C appears 1 times\n"
     ]
    }
   ],
   "source": [
    "# now with a function rather than lambda expression\n",
    "L = ['E', 'F', 'B', 'A', 'D', 'I', 'I', 'C', 'B', 'A', 'D', 'D', 'E', 'D']\n",
    "\n",
    "d = {}\n",
    "for x in L:\n",
    "    if x in d:\n",
    "        d[x] += 1\n",
    "    else:\n",
    "        d[x] = 1\n",
    "\n",
    "def g(k):\n",
    "    return d[k]\n",
    "\n",
    "y =(sorted(d.keys(), key=g, reverse=True))\n",
    "\n",
    "# now loop through the keys\n",
    "for k in y:\n",
    "    print(\"{} appears {} times\".format(k, d[k]))\n"
   ]
  },
  {
   "cell_type": "code",
   "execution_count": 5,
   "metadata": {},
   "outputs": [
    {
     "name": "stdout",
     "output_type": "stream",
     "text": [
      "D appears 4 times\n",
      "E appears 2 times\n",
      "B appears 2 times\n",
      "A appears 2 times\n",
      "I appears 2 times\n",
      "F appears 1 times\n",
      "C appears 1 times\n"
     ]
    }
   ],
   "source": [
    "# one more time with a minor tweak: skip adding a variable\n",
    "L = ['E', 'F', 'B', 'A', 'D', 'I', 'I', 'C', 'B', 'A', 'D', 'D', 'E', 'D']\n",
    "\n",
    "d = {}\n",
    "for x in L:\n",
    "    if x in d:\n",
    "        d[x] += 1\n",
    "    else:\n",
    "        d[x] = 1\n",
    "\n",
    "def g(k):\n",
    "    return d[k]\n",
    "\n",
    "# now loop through the keys\n",
    "for k in sorted(d.keys(), key=g, reverse=True):\n",
    "    print(\"{} appears {} times\".format(k, d[k]))"
   ]
  },
  {
   "cell_type": "code",
   "execution_count": 7,
   "metadata": {},
   "outputs": [
    {
     "name": "stdout",
     "output_type": "stream",
     "text": [
      "['apples', 'bananas', 'carrots', 'cereal', 'coffee', 'granola bars', 'onions', 'orange juice', 'pasta', 'peanut butter', 'popcorn', 'rice', 'salsa', 'spinach']\n"
     ]
    }
   ],
   "source": [
    "# nother little example sorting groceries\n",
    "# if you actually do this before you shop, then you a boss\n",
    "# or you're just neurotic af\n",
    "groceries = {'apples': 5, 'pasta': 3, 'carrots': 12, 'orange juice': 2, 'bananas': 8, 'popcorn': 1, 'salsa': 3, 'cereal': 4, 'coffee': 5, 'granola bars': 15, 'onions': 7, 'rice': 1, 'peanut butter': 2, 'spinach': 9}\n",
    "\n",
    "grocery_keys_sorted = []\n",
    "for k in sorted(groceries.keys()):\n",
    "    grocery_keys_sorted.append(k)\n",
    "    \n",
    "print(grocery_keys_sorted)"
   ]
  },
  {
   "cell_type": "code",
   "execution_count": null,
   "metadata": {},
   "outputs": [],
   "source": []
  }
 ],
 "metadata": {
  "kernelspec": {
   "display_name": "Python 3",
   "language": "python",
   "name": "python3"
  },
  "language_info": {
   "codemirror_mode": {
    "name": "ipython",
    "version": 3
   },
   "file_extension": ".py",
   "mimetype": "text/x-python",
   "name": "python",
   "nbconvert_exporter": "python",
   "pygments_lexer": "ipython3",
   "version": "3.8.6"
  }
 },
 "nbformat": 4,
 "nbformat_minor": 4
}
